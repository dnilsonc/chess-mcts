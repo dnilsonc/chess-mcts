{
 "cells": [
  {
   "cell_type": "markdown",
   "metadata": {},
   "source": [
    "Install Lib"
   ]
  },
  {
   "cell_type": "code",
   "execution_count": 1,
   "metadata": {},
   "outputs": [
    {
     "name": "stdout",
     "output_type": "stream",
     "text": [
      "Collecting python-chess\n",
      "  Downloading python_chess-1.999-py3-none-any.whl.metadata (776 bytes)\n",
      "Collecting chess<2,>=1 (from python-chess)\n",
      "  Downloading chess-1.11.1.tar.gz (156 kB)\n",
      "     ---------------------------------------- 0.0/156.5 kB ? eta -:--:--\n",
      "     -- ------------------------------------- 10.2/156.5 kB ? eta -:--:--\n",
      "     --------- --------------------------- 41.0/156.5 kB 495.5 kB/s eta 0:00:01\n",
      "     ------------------------- ---------- 112.6/156.5 kB 939.4 kB/s eta 0:00:01\n",
      "     -------------------------------------- 156.5/156.5 kB 1.2 MB/s eta 0:00:00\n",
      "  Installing build dependencies: started\n",
      "  Installing build dependencies: finished with status 'done'\n",
      "  Getting requirements to build wheel: started\n",
      "  Getting requirements to build wheel: finished with status 'done'\n",
      "  Preparing metadata (pyproject.toml): started\n",
      "  Preparing metadata (pyproject.toml): finished with status 'done'\n",
      "Downloading python_chess-1.999-py3-none-any.whl (1.4 kB)\n",
      "Building wheels for collected packages: chess\n",
      "  Building wheel for chess (pyproject.toml): started\n",
      "  Building wheel for chess (pyproject.toml): finished with status 'done'\n",
      "  Created wheel for chess: filename=chess-1.11.1-py3-none-any.whl size=148535 sha256=b35fff96328dddac3f6776a528a3dbdf019125f2677b4e45b1af2a6859e6ace4\n",
      "  Stored in directory: c:\\users\\dnilson\\appdata\\local\\pip\\cache\\wheels\\84\\8b\\6c\\94b05653eadf8766c01d0ccc56e866c570346c5ea36b3db6f3\n",
      "Successfully built chess\n",
      "Installing collected packages: chess, python-chess\n",
      "Successfully installed chess-1.11.1 python-chess-1.999\n",
      "Note: you may need to restart the kernel to use updated packages.\n"
     ]
    },
    {
     "name": "stderr",
     "output_type": "stream",
     "text": [
      "\n",
      "[notice] A new release of pip is available: 24.0 -> 24.3.1\n",
      "[notice] To update, run: python.exe -m pip install --upgrade pip\n"
     ]
    }
   ],
   "source": [
    "pip install python-chess"
   ]
  },
  {
   "cell_type": "markdown",
   "metadata": {},
   "source": [
    "### Class Node"
   ]
  },
  {
   "cell_type": "code",
   "execution_count": 14,
   "metadata": {},
   "outputs": [],
   "source": [
    "board = chess.Board()"
   ]
  },
  {
   "cell_type": "code",
   "execution_count": 18,
   "metadata": {},
   "outputs": [
    {
     "data": {
      "text/plain": [
       "True"
      ]
     },
     "execution_count": 18,
     "metadata": {},
     "output_type": "execute_result"
    }
   ],
   "source": [
    "board.turn == chess.WHITE"
   ]
  },
  {
   "cell_type": "code",
   "execution_count": 19,
   "metadata": {},
   "outputs": [],
   "source": [
    "############ CLASS NODE ############\n",
    "\n",
    "from typing import Optional, List, Tuple\n",
    "import random\n",
    "import chess\n",
    "import chess.polyglot\n",
    "import copy\n",
    "\n",
    "class Node:\n",
    "    def __init__(self, board: chess.Board, parent: Optional['Node'] = None, from_move: Optional[chess.Move] = None):\n",
    "        self.board = board\n",
    "        self.parent = parent\n",
    "        self.from_move = from_move\n",
    "        self.children: List['Node'] = []\n",
    "        self.visits = 0\n",
    "        self.value = 0\n",
    "        self.used_moves = set()  # Rastreamento dos movimentos já usados\n",
    "\n",
    "    def is_fully_expanded(self) -> bool:\n",
    "        return len(self.children) == len(list(self.board.legal_moves))\n",
    "\n",
    "    def update(self, reward: int):\n",
    "        self.visits += 1\n",
    "        if reward == 1: # checkmate for white\n",
    "            if self.board.turn == chess.BLACK:\n",
    "                self.value += 1\n",
    "        elif reward == -1:\n",
    "            if self.board.turn == chess.BLACK:\n",
    "                self.value += -1\n",
    "        elif reward == 0.5: # draw\n",
    "            self.value += 0\n",
    "        if self.parent:\n",
    "            self.parent.update(-reward)\n",
    "\n",
    "    def expand(self) -> Optional['Node']:\n",
    "        legal_moves = list(self.board.legal_moves)\n",
    "        available_moves = [move for move in legal_moves if move not in self.used_moves]\n",
    "        while available_moves:\n",
    "            move = random.choice(available_moves)\n",
    "            self.used_moves.add(move)  # Marcar o movimento como usado\n",
    "            available_moves.remove(move)\n",
    "            new_board = copy.deepcopy(self.board)\n",
    "            new_board.push(move)\n",
    "            leaf = Node(new_board, parent=self, from_move=move)\n",
    "            self.children.append(leaf)"
   ]
  },
  {
   "cell_type": "markdown",
   "metadata": {},
   "source": [
    "### MONTE CARLO TREE SEARCH"
   ]
  },
  {
   "cell_type": "code",
   "execution_count": 20,
   "metadata": {},
   "outputs": [],
   "source": [
    "import math\n",
    "\n",
    "def uct(node: Node) -> float:\n",
    "    # UCT formula: Q + C * sqrt(ln(N) / n)\n",
    "    if node.visits == 0:\n",
    "        return float('inf')\n",
    "    C = 1.414  # Exploração constante, ajustável\n",
    "    return node.value / node.visits + C * math.sqrt(math.log(node.parent.visits) / node.visits)\n",
    "\n",
    "def selection(root: Node) -> Node:\n",
    "    root.expand()\n",
    "    leaf = max(root.children, key=uct)\n",
    "    return leaf\n",
    "\n",
    "def expansion(node: Node) -> Node:\n",
    "    if not node.is_fully_expanded():\n",
    "        node.expand()\n",
    "        children = max(node.children, key=uct)\n",
    "        return children\n",
    "    else:\n",
    "        if node.children:\n",
    "            children = max(node.children, key=uct)\n",
    "            return children\n",
    "        else:\n",
    "            return node\n",
    "\n",
    "def simulation(children: Node) -> int:\n",
    "    board = copy.deepcopy(children.board)\n",
    "    while not board.is_game_over():\n",
    "        legal_moves = list(board.legal_moves)\n",
    "        move = random.choice(legal_moves)\n",
    "        board.push(move)\n",
    "    result = board.result()\n",
    "    if result == '1-0':\n",
    "        reward = 1\n",
    "    elif result == '0-1':\n",
    "        reward = -1\n",
    "    else:\n",
    "        reward = 0.5\n",
    "    return reward\n",
    "\n",
    "def backpropagation(reward: int, node: Node) -> None:\n",
    "    node.update(reward)\n",
    "\n",
    "def best_child(root: Node, player: bool) -> Node:\n",
    "    best_child = random.choice(root.children)\n",
    "    best_visits = 0\n",
    "    for child in root.children:\n",
    "        if child.visits > best_visits:\n",
    "            best_visits = child.visits\n",
    "            best_child = child\n",
    "    return best_child\n",
    "\n",
    "def mcts(board: chess.Board, n_simulations: int, player: bool) -> Optional[chess.Move]:\n",
    "    root = Node(board)  # Inicialize a raiz da árvore fora do loop\n",
    "    for _ in range(n_simulations):\n",
    "        leaf = selection(root)  # Seleciona\n",
    "        node = expansion(leaf)  # Expande\n",
    "        reward = simulation(node)  # Simula\n",
    "        backpropagation(reward, node)  # Retropropaga\n",
    "    best = best_child(root, player)\n",
    "    move = best.from_move\n",
    "    return move"
   ]
  },
  {
   "cell_type": "markdown",
   "metadata": {},
   "source": [
    "### GAME"
   ]
  },
  {
   "cell_type": "code",
   "execution_count": 21,
   "metadata": {},
   "outputs": [
    {
     "name": "stdout",
     "output_type": "stream",
     "text": [
      ". . . . . . K .\n",
      ". . . . q . . n\n",
      ". . . . k . . .\n",
      ". . . . . . . .\n",
      ". . . . . . . .\n",
      ". . . . . . . .\n",
      ". . . . . . . .\n",
      ". . . . . . . .\n",
      "Player WHITE move: Kh8\n",
      "Player BLACK move: Qh4\n",
      "Player WHITE move: Kg8\n",
      "Player BLACK move: Kf6\n",
      "Player WHITE move: Kh8\n",
      "Player BLACK move: Kf7\n",
      "Draw!\n",
      "\n",
      "Histórico de movimentos:\n",
      "[Event \"Test\"]\n",
      "[Site \"?\"]\n",
      "[Date \"????.??.??\"]\n",
      "[Round \"?\"]\n",
      "[White \"MCTS\"]\n",
      "[Black \"MCTS\"]\n",
      "[Result \"1/2-1/2\"]\n",
      "[SetUp \"1\"]\n",
      "[FEN \"6K1/4q2n/4k3/8/8/8/8/8 w - - 0 1\"]\n",
      "\n",
      "1. Kh8 Qh4 2. Kg8 Kf6 3. Kh8 Kf7 1/2-1/2\n"
     ]
    }
   ],
   "source": [
    "############ GAME ############\n",
    "import chess\n",
    "import chess.pgn\n",
    "\n",
    "def play_game():\n",
    "\n",
    "    board = chess.Board()\n",
    "    # initial_fen = board.fen()  # Capturar a posição inicial do tabuleiro\n",
    "\n",
    "    # initial_fen = \"6k1/4Q2N/4K3/8/8/8/8/8 w - - 0 1\" # checkmate white\n",
    "    initial_fen =  \"6K1/4q2n/4k3/8/8/8/8/8 w - - 0 1\" # checkmate black\n",
    "    board.set_fen(initial_fen)\n",
    "\n",
    "    print(board)\n",
    "    move_history = []\n",
    "\n",
    "    # Salvar o histórico dos movimentos em formato PGN\n",
    "    game = chess.pgn.Game()\n",
    "    game.headers[\"Event\"] = \"Test\"\n",
    "    game.headers[\"White\"] = \"MCTS\"\n",
    "    game.headers[\"Black\"] = \"MCTS\"\n",
    "    game.headers[\"SetUp\"] = \"1\"\n",
    "    game.headers[\"FEN\"] = initial_fen\n",
    "\n",
    "    # Jogo\n",
    "    while not board.is_game_over():\n",
    "        if board.turn == chess.WHITE:\n",
    "            move = mcts(board, 1600, board.turn)\n",
    "            print(f\"Player WHITE move: {board.san(move)}\")\n",
    "        else:\n",
    "            move = mcts(board, 1600, board.turn)\n",
    "            print(f\"Player BLACK move: {board.san(move)}\")\n",
    "\n",
    "        move_history.append(board.san(move))\n",
    "        board.push(move)\n",
    "\n",
    "        if board.is_checkmate():\n",
    "            print(f'Player {\"WHITE\" if board.turn == chess.BLACK else \"BLACK\"} Wins!')\n",
    "            game.headers[\"Result\"] = board.result()\n",
    "            break\n",
    "        elif board.is_stalemate() or board.is_insufficient_material() or board.is_seventyfive_moves() or board.is_fivefold_repetition():\n",
    "            print('Draw!')\n",
    "            game.headers[\"Result\"] = board.result()\n",
    "            break\n",
    "\n",
    "    # Salvar o histórico dos movimentos em formato PGN\n",
    "    node = game\n",
    "    board = chess.Board()  # Resetar o tabuleiro para a posição inicial\n",
    "    board.set_fen(initial_fen)  # Redefinir a posição inicial\n",
    "\n",
    "    for move in move_history:\n",
    "        move = board.parse_san(move)  # Converter SAN para objeto Move\n",
    "        node = node.add_main_variation(move)\n",
    "        board.push(move)  # Atualizar o tabuleiro com o movimento\n",
    "\n",
    "    # Imprimir o histórico de movimentos\n",
    "    print(\"\\nHistórico de movimentos:\")\n",
    "    print(game)\n",
    "\n",
    "play_game()"
   ]
  }
 ],
 "metadata": {
  "kernelspec": {
   "display_name": ".venv",
   "language": "python",
   "name": "python3"
  },
  "language_info": {
   "codemirror_mode": {
    "name": "ipython",
    "version": 3
   },
   "file_extension": ".py",
   "mimetype": "text/x-python",
   "name": "python",
   "nbconvert_exporter": "python",
   "pygments_lexer": "ipython3",
   "version": "3.12.3"
  }
 },
 "nbformat": 4,
 "nbformat_minor": 2
}
