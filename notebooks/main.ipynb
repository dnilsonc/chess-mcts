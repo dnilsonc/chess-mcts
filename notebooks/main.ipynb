{
 "cells": [
  {
   "cell_type": "markdown",
   "metadata": {},
   "source": [
    "Install Lib"
   ]
  },
  {
   "cell_type": "code",
   "execution_count": 1,
   "metadata": {},
   "outputs": [
    {
     "name": "stdout",
     "output_type": "stream",
     "text": [
      "Collecting python-chess\n",
      "  Downloading python_chess-1.999-py3-none-any.whl.metadata (776 bytes)\n",
      "Collecting chess<2,>=1 (from python-chess)\n",
      "  Downloading chess-1.11.1.tar.gz (156 kB)\n",
      "     ---------------------------------------- 0.0/156.5 kB ? eta -:--:--\n",
      "     -- ------------------------------------- 10.2/156.5 kB ? eta -:--:--\n",
      "     --------- --------------------------- 41.0/156.5 kB 495.5 kB/s eta 0:00:01\n",
      "     ------------------------- ---------- 112.6/156.5 kB 939.4 kB/s eta 0:00:01\n",
      "     -------------------------------------- 156.5/156.5 kB 1.2 MB/s eta 0:00:00\n",
      "  Installing build dependencies: started\n",
      "  Installing build dependencies: finished with status 'done'\n",
      "  Getting requirements to build wheel: started\n",
      "  Getting requirements to build wheel: finished with status 'done'\n",
      "  Preparing metadata (pyproject.toml): started\n",
      "  Preparing metadata (pyproject.toml): finished with status 'done'\n",
      "Downloading python_chess-1.999-py3-none-any.whl (1.4 kB)\n",
      "Building wheels for collected packages: chess\n",
      "  Building wheel for chess (pyproject.toml): started\n",
      "  Building wheel for chess (pyproject.toml): finished with status 'done'\n",
      "  Created wheel for chess: filename=chess-1.11.1-py3-none-any.whl size=148535 sha256=b35fff96328dddac3f6776a528a3dbdf019125f2677b4e45b1af2a6859e6ace4\n",
      "  Stored in directory: c:\\users\\dnilson\\appdata\\local\\pip\\cache\\wheels\\84\\8b\\6c\\94b05653eadf8766c01d0ccc56e866c570346c5ea36b3db6f3\n",
      "Successfully built chess\n",
      "Installing collected packages: chess, python-chess\n",
      "Successfully installed chess-1.11.1 python-chess-1.999\n",
      "Note: you may need to restart the kernel to use updated packages.\n"
     ]
    },
    {
     "name": "stderr",
     "output_type": "stream",
     "text": [
      "\n",
      "[notice] A new release of pip is available: 24.0 -> 24.3.1\n",
      "[notice] To update, run: python.exe -m pip install --upgrade pip\n"
     ]
    }
   ],
   "source": [
    "pip install python-chess"
   ]
  },
  {
   "cell_type": "markdown",
   "metadata": {},
   "source": [
    "### Class Node"
   ]
  },
  {
   "cell_type": "code",
   "execution_count": 4,
   "metadata": {},
   "outputs": [],
   "source": [
    "board = chess.Board()"
   ]
  },
  {
   "cell_type": "code",
   "execution_count": 5,
   "metadata": {},
   "outputs": [
    {
     "data": {
      "text/plain": [
       "True"
      ]
     },
     "execution_count": 5,
     "metadata": {},
     "output_type": "execute_result"
    }
   ],
   "source": [
    "board.turn == chess.WHITE"
   ]
  },
  {
   "cell_type": "code",
   "execution_count": 1,
   "metadata": {},
   "outputs": [],
   "source": [
    "############ CLASS NODE ############\n",
    "\n",
    "from typing import Optional, List, Tuple\n",
    "import random\n",
    "import chess\n",
    "import copy\n",
    "\n",
    "class Node:\n",
    "    def __init__(self, board: chess.Board, parent: Optional['Node'] = None, from_move: Optional[chess.Move] = None):\n",
    "        self.board = board\n",
    "        self.parent = parent\n",
    "        self.from_move = from_move\n",
    "        self.children: List['Node'] = []\n",
    "        self.visits = 0\n",
    "        self.value = 0\n",
    "        self.used_moves = set()  # Rastreamento dos movimentos já usados\n",
    "\n",
    "    def is_fully_expanded(self) -> bool:\n",
    "        return len(self.children) == len(list(self.board.legal_moves))\n",
    "\n",
    "    def update(self, reward: int):\n",
    "        self.visits += 1\n",
    "        self.value += reward\n",
    "        if self.parent:\n",
    "            self.parent.update(-reward)\n",
    "\n",
    "    def expand(self) -> Optional['Node']:\n",
    "        legal_moves = list(self.board.legal_moves)\n",
    "        available_moves = [move for move in legal_moves if move not in self.used_moves]\n",
    "        if available_moves:\n",
    "            move = random.choice(available_moves)\n",
    "            self.used_moves.add(move)  # Marcar o movimento como usado\n",
    "            available_moves.remove(move)\n",
    "            new_board = copy.deepcopy(self.board)\n",
    "            new_board.push(move)\n",
    "            leaf = Node(new_board, parent=self, from_move=move)\n",
    "            self.children.append(leaf)\n",
    "        else:\n",
    "            pass"
   ]
  },
  {
   "cell_type": "markdown",
   "metadata": {},
   "source": [
    "### MONTE CARLO TREE SEARCH"
   ]
  },
  {
   "cell_type": "code",
   "execution_count": 4,
   "metadata": {},
   "outputs": [],
   "source": [
    "import math\n",
    "\n",
    "def uct(node: Node) -> float:\n",
    "    # UCT formula: Q + C * sqrt(ln(N) / n)\n",
    "    if node.visits == 0:\n",
    "        return float('inf')\n",
    "    C = 1.414  # Exploração constante, ajustável\n",
    "    return node.value / node.visits + C * math.sqrt(math.log(node.parent.visits) / node.visits)\n",
    "\n",
    "def selection(node: Node) -> Node:\n",
    "    while node.is_fully_expanded():\n",
    "        if not node.children:  # Verifica se a lista children está vazia\n",
    "            return node\n",
    "        node = max(node.children, key=uct)\n",
    "    return node\n",
    "\n",
    "def expansion(node: Node) -> Node:\n",
    "    if not node.is_fully_expanded():\n",
    "        node.expand()\n",
    "        children = max(node.children, key=uct)\n",
    "        return children\n",
    "    else:\n",
    "        if node.children:\n",
    "            children = max(node.children, key=uct)\n",
    "            return children\n",
    "        else:\n",
    "            return node    \n",
    "\n",
    "def simulation(node: Node) -> int:\n",
    "    board = copy.deepcopy(node.board)\n",
    "    while not board.is_game_over():\n",
    "        legal_moves = list(board.legal_moves)\n",
    "        move = random.choice(legal_moves)\n",
    "        board.push(move)\n",
    "    result = board.result()\n",
    "    if result == '1-0':\n",
    "        reward = 1\n",
    "    elif result == '0-1':\n",
    "        reward = -1\n",
    "    else:\n",
    "        reward = 0\n",
    "    return reward\n",
    "\n",
    "def backpropagation(reward: int, node: Node) -> None:\n",
    "    node.update(reward)\n",
    "\n",
    "def best_child(root: Node, player: bool) -> Node:\n",
    "    best_child = random.choice(root.children)\n",
    "    best_visits = 0\n",
    "       \n",
    "    if root.board.turn == chess.WHITE:\n",
    "        best_avaliation = -float('inf')        \n",
    "        for child in root.children:\n",
    "            avaliation = child.value / child.visits\n",
    "            if avaliation > best_avaliation:\n",
    "                best_avaliation = avaliation\n",
    "                best_child = child\n",
    "    else:\n",
    "        best_avaliation = float('inf')        \n",
    "        for child in root.children:\n",
    "            avaliation = child.value / child.visits\n",
    "            if avaliation < best_avaliation:\n",
    "                best_avaliation = avaliation\n",
    "                best_child = child\n",
    "\n",
    "        # if child.visits > best_visits:\n",
    "        #     best_visits = child.visits\n",
    "        #     best_child = child\n",
    "    return best_child\n",
    "\n",
    "def mcts(board: chess.Board, n_simulations: int, player: bool) -> Optional[chess.Move]:\n",
    "    root = Node(board)  # Inicialize a raiz da árvore fora do loop\n",
    "    for _ in range(n_simulations):\n",
    "        leaf = selection(root)  # Seleciona\n",
    "        node = expansion(leaf)  # Expande\n",
    "        reward = simulation(node)  # Simula\n",
    "        backpropagation(reward, node)  # Retropropaga\n",
    "    best = best_child(root, player)\n",
    "    move = best.from_move\n",
    "    return move"
   ]
  },
  {
   "cell_type": "markdown",
   "metadata": {},
   "source": [
    "### GAME"
   ]
  },
  {
   "cell_type": "code",
   "execution_count": 6,
   "metadata": {},
   "outputs": [
    {
     "name": "stdout",
     "output_type": "stream",
     "text": [
      "r . . . . . . .\n",
      ". . . . k . K .\n",
      ". . . . . . P .\n",
      ". . . . . P . .\n",
      ". . . . . . . .\n",
      ". . . . . . . .\n",
      ". . . . . . . .\n",
      ". . . . . . . .\n",
      "Player BLACK move: Rh8\n",
      "Player WHITE move: f6+\n",
      "Player BLACK move: Ke6\n",
      "Player WHITE move: Kxh8\n",
      "Player BLACK move: Kd7\n",
      "Player WHITE move: f7\n",
      "Player BLACK move: Kd8\n",
      "Player WHITE move: f8=B\n",
      "Player BLACK move: Ke8\n",
      "Player WHITE move: Kg8\n",
      "Player BLACK move: Kd8\n",
      "Player WHITE move: Bh6\n",
      "Player BLACK move: Ke8\n",
      "Player WHITE move: Bc1\n",
      "Player BLACK move: Kd8\n",
      "Player WHITE move: g7\n",
      "Player BLACK move: Ke8\n",
      "Player WHITE move: Kh7\n",
      "Player BLACK move: Kf7\n",
      "Player WHITE move: Bg5\n"
     ]
    },
    {
     "ename": "KeyboardInterrupt",
     "evalue": "",
     "output_type": "error",
     "traceback": [
      "\u001b[1;31m---------------------------------------------------------------------------\u001b[0m",
      "\u001b[1;31mKeyboardInterrupt\u001b[0m                         Traceback (most recent call last)",
      "Cell \u001b[1;32mIn[6], line 59\u001b[0m\n\u001b[0;32m     56\u001b[0m     \u001b[38;5;28mprint\u001b[39m(\u001b[38;5;124m\"\u001b[39m\u001b[38;5;130;01m\\n\u001b[39;00m\u001b[38;5;124mHistórico de movimentos:\u001b[39m\u001b[38;5;124m\"\u001b[39m)\n\u001b[0;32m     57\u001b[0m     \u001b[38;5;28mprint\u001b[39m(game)\n\u001b[1;32m---> 59\u001b[0m \u001b[43mplay_game\u001b[49m\u001b[43m(\u001b[49m\u001b[43m)\u001b[49m\n",
      "Cell \u001b[1;32mIn[6], line 30\u001b[0m, in \u001b[0;36mplay_game\u001b[1;34m()\u001b[0m\n\u001b[0;32m     28\u001b[0m     \u001b[38;5;28mprint\u001b[39m(\u001b[38;5;124mf\u001b[39m\u001b[38;5;124m\"\u001b[39m\u001b[38;5;124mPlayer WHITE move: \u001b[39m\u001b[38;5;132;01m{\u001b[39;00mboard\u001b[38;5;241m.\u001b[39msan(move)\u001b[38;5;132;01m}\u001b[39;00m\u001b[38;5;124m\"\u001b[39m)\n\u001b[0;32m     29\u001b[0m \u001b[38;5;28;01melse\u001b[39;00m:\n\u001b[1;32m---> 30\u001b[0m     move \u001b[38;5;241m=\u001b[39m \u001b[43mmcts\u001b[49m\u001b[43m(\u001b[49m\u001b[43mboard\u001b[49m\u001b[43m,\u001b[49m\u001b[43m \u001b[49m\u001b[38;5;241;43m5000\u001b[39;49m\u001b[43m,\u001b[49m\u001b[43m \u001b[49m\u001b[43mboard\u001b[49m\u001b[38;5;241;43m.\u001b[39;49m\u001b[43mturn\u001b[49m\u001b[43m)\u001b[49m\n\u001b[0;32m     31\u001b[0m     \u001b[38;5;28mprint\u001b[39m(\u001b[38;5;124mf\u001b[39m\u001b[38;5;124m\"\u001b[39m\u001b[38;5;124mPlayer BLACK move: \u001b[39m\u001b[38;5;132;01m{\u001b[39;00mboard\u001b[38;5;241m.\u001b[39msan(move)\u001b[38;5;132;01m}\u001b[39;00m\u001b[38;5;124m\"\u001b[39m)\n\u001b[0;32m     33\u001b[0m move_history\u001b[38;5;241m.\u001b[39mappend(board\u001b[38;5;241m.\u001b[39msan(move))\n",
      "Cell \u001b[1;32mIn[4], line 76\u001b[0m, in \u001b[0;36mmcts\u001b[1;34m(board, n_simulations, player)\u001b[0m\n\u001b[0;32m     74\u001b[0m     leaf \u001b[38;5;241m=\u001b[39m selection(root)  \u001b[38;5;66;03m# Seleciona\u001b[39;00m\n\u001b[0;32m     75\u001b[0m     node \u001b[38;5;241m=\u001b[39m expansion(leaf)  \u001b[38;5;66;03m# Expande\u001b[39;00m\n\u001b[1;32m---> 76\u001b[0m     reward \u001b[38;5;241m=\u001b[39m \u001b[43msimulation\u001b[49m\u001b[43m(\u001b[49m\u001b[43mnode\u001b[49m\u001b[43m)\u001b[49m  \u001b[38;5;66;03m# Simula\u001b[39;00m\n\u001b[0;32m     77\u001b[0m     backpropagation(reward, node)  \u001b[38;5;66;03m# Retropropaga\u001b[39;00m\n\u001b[0;32m     78\u001b[0m best \u001b[38;5;241m=\u001b[39m best_child(root, player)\n",
      "Cell \u001b[1;32mIn[4], line 31\u001b[0m, in \u001b[0;36msimulation\u001b[1;34m(node)\u001b[0m\n\u001b[0;32m     29\u001b[0m \u001b[38;5;28;01mdef\u001b[39;00m \u001b[38;5;21msimulation\u001b[39m(node: Node) \u001b[38;5;241m-\u001b[39m\u001b[38;5;241m>\u001b[39m \u001b[38;5;28mint\u001b[39m:\n\u001b[0;32m     30\u001b[0m     board \u001b[38;5;241m=\u001b[39m copy\u001b[38;5;241m.\u001b[39mdeepcopy(node\u001b[38;5;241m.\u001b[39mboard)\n\u001b[1;32m---> 31\u001b[0m     \u001b[38;5;28;01mwhile\u001b[39;00m \u001b[38;5;129;01mnot\u001b[39;00m \u001b[43mboard\u001b[49m\u001b[38;5;241;43m.\u001b[39;49m\u001b[43mis_game_over\u001b[49m\u001b[43m(\u001b[49m\u001b[43m)\u001b[49m:\n\u001b[0;32m     32\u001b[0m         legal_moves \u001b[38;5;241m=\u001b[39m \u001b[38;5;28mlist\u001b[39m(board\u001b[38;5;241m.\u001b[39mlegal_moves)\n\u001b[0;32m     33\u001b[0m         move \u001b[38;5;241m=\u001b[39m random\u001b[38;5;241m.\u001b[39mchoice(legal_moves)\n",
      "File \u001b[1;32mc:\\Users\\dnilson\\Documents\\PROJETOS\\chess-mcts\\.venv\\Lib\\site-packages\\chess\\__init__.py:2035\u001b[0m, in \u001b[0;36mBoard.is_game_over\u001b[1;34m(self, claim_draw)\u001b[0m\n\u001b[0;32m   2034\u001b[0m \u001b[38;5;28;01mdef\u001b[39;00m \u001b[38;5;21mis_game_over\u001b[39m(\u001b[38;5;28mself\u001b[39m, \u001b[38;5;241m*\u001b[39m, claim_draw: \u001b[38;5;28mbool\u001b[39m \u001b[38;5;241m=\u001b[39m \u001b[38;5;28;01mFalse\u001b[39;00m) \u001b[38;5;241m-\u001b[39m\u001b[38;5;241m>\u001b[39m \u001b[38;5;28mbool\u001b[39m:\n\u001b[1;32m-> 2035\u001b[0m     \u001b[38;5;28;01mreturn\u001b[39;00m \u001b[38;5;28;43mself\u001b[39;49m\u001b[38;5;241;43m.\u001b[39;49m\u001b[43moutcome\u001b[49m\u001b[43m(\u001b[49m\u001b[43mclaim_draw\u001b[49m\u001b[38;5;241;43m=\u001b[39;49m\u001b[43mclaim_draw\u001b[49m\u001b[43m)\u001b[49m \u001b[38;5;129;01mis\u001b[39;00m \u001b[38;5;129;01mnot\u001b[39;00m \u001b[38;5;28;01mNone\u001b[39;00m\n",
      "File \u001b[1;32mc:\\Users\\dnilson\\Documents\\PROJETOS\\chess-mcts\\.venv\\Lib\\site-packages\\chess\\__init__.py:2081\u001b[0m, in \u001b[0;36mBoard.outcome\u001b[1;34m(self, claim_draw)\u001b[0m\n\u001b[0;32m   2079\u001b[0m \u001b[38;5;28;01mif\u001b[39;00m \u001b[38;5;28mself\u001b[39m\u001b[38;5;241m.\u001b[39mis_seventyfive_moves():\n\u001b[0;32m   2080\u001b[0m     \u001b[38;5;28;01mreturn\u001b[39;00m Outcome(Termination\u001b[38;5;241m.\u001b[39mSEVENTYFIVE_MOVES, \u001b[38;5;28;01mNone\u001b[39;00m)\n\u001b[1;32m-> 2081\u001b[0m \u001b[38;5;28;01mif\u001b[39;00m \u001b[38;5;28;43mself\u001b[39;49m\u001b[38;5;241;43m.\u001b[39;49m\u001b[43mis_fivefold_repetition\u001b[49m\u001b[43m(\u001b[49m\u001b[43m)\u001b[49m:\n\u001b[0;32m   2082\u001b[0m     \u001b[38;5;28;01mreturn\u001b[39;00m Outcome(Termination\u001b[38;5;241m.\u001b[39mFIVEFOLD_REPETITION, \u001b[38;5;28;01mNone\u001b[39;00m)\n\u001b[0;32m   2084\u001b[0m \u001b[38;5;66;03m# Claimable draws.\u001b[39;00m\n",
      "File \u001b[1;32mc:\\Users\\dnilson\\Documents\\PROJETOS\\chess-mcts\\.venv\\Lib\\site-packages\\chess\\__init__.py:2171\u001b[0m, in \u001b[0;36mBoard.is_fivefold_repetition\u001b[1;34m(self)\u001b[0m\n\u001b[0;32m   2164\u001b[0m \u001b[38;5;28;01mdef\u001b[39;00m \u001b[38;5;21mis_fivefold_repetition\u001b[39m(\u001b[38;5;28mself\u001b[39m) \u001b[38;5;241m-\u001b[39m\u001b[38;5;241m>\u001b[39m \u001b[38;5;28mbool\u001b[39m:\n\u001b[0;32m   2165\u001b[0m \u001b[38;5;250m    \u001b[39m\u001b[38;5;124;03m\"\"\"\u001b[39;00m\n\u001b[0;32m   2166\u001b[0m \u001b[38;5;124;03m    Since the 1st of July 2014 a game is automatically drawn (without\u001b[39;00m\n\u001b[0;32m   2167\u001b[0m \u001b[38;5;124;03m    a claim by one of the players) if a position occurs for the fifth time.\u001b[39;00m\n\u001b[0;32m   2168\u001b[0m \u001b[38;5;124;03m    Originally this had to occur on consecutive alternating moves, but\u001b[39;00m\n\u001b[0;32m   2169\u001b[0m \u001b[38;5;124;03m    this has since been revised.\u001b[39;00m\n\u001b[0;32m   2170\u001b[0m \u001b[38;5;124;03m    \"\"\"\u001b[39;00m\n\u001b[1;32m-> 2171\u001b[0m     \u001b[38;5;28;01mreturn\u001b[39;00m \u001b[38;5;28;43mself\u001b[39;49m\u001b[38;5;241;43m.\u001b[39;49m\u001b[43mis_repetition\u001b[49m\u001b[43m(\u001b[49m\u001b[38;5;241;43m5\u001b[39;49m\u001b[43m)\u001b[49m\n",
      "File \u001b[1;32mc:\\Users\\dnilson\\Documents\\PROJETOS\\chess-mcts\\.venv\\Lib\\site-packages\\chess\\__init__.py:2274\u001b[0m, in \u001b[0;36mBoard.is_repetition\u001b[1;34m(self, count)\u001b[0m\n\u001b[0;32m   2272\u001b[0m maybe_repetitions \u001b[38;5;241m=\u001b[39m \u001b[38;5;241m1\u001b[39m\n\u001b[0;32m   2273\u001b[0m \u001b[38;5;28;01mfor\u001b[39;00m state \u001b[38;5;129;01min\u001b[39;00m \u001b[38;5;28mreversed\u001b[39m(\u001b[38;5;28mself\u001b[39m\u001b[38;5;241m.\u001b[39m_stack):\n\u001b[1;32m-> 2274\u001b[0m     \u001b[38;5;28;01mif\u001b[39;00m state\u001b[38;5;241m.\u001b[39moccupied \u001b[38;5;241m==\u001b[39m \u001b[38;5;28mself\u001b[39m\u001b[38;5;241m.\u001b[39moccupied:\n\u001b[0;32m   2275\u001b[0m         maybe_repetitions \u001b[38;5;241m+\u001b[39m\u001b[38;5;241m=\u001b[39m \u001b[38;5;241m1\u001b[39m\n\u001b[0;32m   2276\u001b[0m         \u001b[38;5;28;01mif\u001b[39;00m maybe_repetitions \u001b[38;5;241m>\u001b[39m\u001b[38;5;241m=\u001b[39m count:\n",
      "\u001b[1;31mKeyboardInterrupt\u001b[0m: "
     ]
    }
   ],
   "source": [
    "############ GAME ############\n",
    "import chess\n",
    "import chess.pgn\n",
    "\n",
    "def play_game():\n",
    "\n",
    "    board = chess.Board()\n",
    "    # initial_fen = board.fen()  # Capturar a posição inicial do tabuleiro\n",
    "    initial_fen = \"r7/4k1K1/6P1/5P2/8/8/8/8 b - - 0 1\" # checkmate black\n",
    "    # initial_fen =  \"4N1k1/4Q3/6K1/8/8/8/8/8 w - - 0 1\" # checkmate white\n",
    "    board.set_fen(initial_fen)\n",
    "\n",
    "    print(board)\n",
    "    move_history = []\n",
    "\n",
    "    # Salvar o histórico dos movimentos em formato PGN\n",
    "    game = chess.pgn.Game()\n",
    "    game.headers[\"Event\"] = \"Test\"\n",
    "    game.headers[\"White\"] = \"MCTS\"\n",
    "    game.headers[\"Black\"] = \"MCTS\"\n",
    "    game.headers[\"SetUp\"] = \"1\"\n",
    "    game.headers[\"FEN\"] = initial_fen\n",
    "\n",
    "    # Jogo\n",
    "    while not board.is_game_over():\n",
    "        if board.turn == chess.WHITE:\n",
    "            move = mcts(board, 5000, board.turn)\n",
    "            print(f\"Player WHITE move: {board.san(move)}\")\n",
    "        else:\n",
    "            move = mcts(board, 5000, board.turn)\n",
    "            print(f\"Player BLACK move: {board.san(move)}\")\n",
    "\n",
    "        move_history.append(board.san(move))\n",
    "        board.push(move)\n",
    "\n",
    "        if board.is_checkmate():\n",
    "            print(f'Player {\"WHITE\" if board.turn == chess.BLACK else \"BLACK\"} Wins!')\n",
    "            game.headers[\"Result\"] = board.result()\n",
    "            break\n",
    "        elif board.is_stalemate() or board.is_insufficient_material() or board.is_seventyfive_moves() or board.is_fivefold_repetition():\n",
    "            print('Draw!')\n",
    "            game.headers[\"Result\"] = board.result()\n",
    "            break\n",
    "\n",
    "    # Salvar o histórico dos movimentos em formato PGN\n",
    "    node = game\n",
    "    board = chess.Board()  # Resetar o tabuleiro para a posição inicial\n",
    "    board.set_fen(initial_fen)  # Redefinir a posição inicial\n",
    "\n",
    "    for move in move_history:\n",
    "        move = board.parse_san(move)  # Converter SAN para objeto Move\n",
    "        node = node.add_main_variation(move)\n",
    "        board.push(move)  # Atualizar o tabuleiro com o movimento\n",
    "\n",
    "    # Imprimir o histórico de movimentos\n",
    "    print(\"\\nHistórico de movimentos:\")\n",
    "    print(game)\n",
    "\n",
    "play_game()"
   ]
  }
 ],
 "metadata": {
  "kernelspec": {
   "display_name": ".venv",
   "language": "python",
   "name": "python3"
  },
  "language_info": {
   "codemirror_mode": {
    "name": "ipython",
    "version": 3
   },
   "file_extension": ".py",
   "mimetype": "text/x-python",
   "name": "python",
   "nbconvert_exporter": "python",
   "pygments_lexer": "ipython3",
   "version": "3.12.3"
  }
 },
 "nbformat": 4,
 "nbformat_minor": 2
}
